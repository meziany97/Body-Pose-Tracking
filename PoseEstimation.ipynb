{
 "cells": [
  {
   "cell_type": "code",
   "execution_count": 2,
   "id": "76e22300",
   "metadata": {},
   "outputs": [],
   "source": [
    "import cv2 \n",
    "import mediapipe as mp \n",
    "import time"
   ]
  },
  {
   "cell_type": "code",
   "execution_count": 4,
   "id": "262897f8",
   "metadata": {},
   "outputs": [],
   "source": [
    "cap = cv2.VideoCapture(\"videos/1.mp4\")\n",
    "\n",
    "cTime=0 \n",
    "pTime=0\n",
    "\n",
    "mpPose = mp.solutions.pose\n",
    "pose = mpPose.Pose()\n",
    "mpDraw = mp.solutions.drawing_utils \n",
    "\n",
    "\n",
    "while True:\n",
    "    success, img = cap.read()\n",
    "    \n",
    "    \n",
    "    img_RGB = cv2.cvtColor(img, cv2.COLOR_RGB2BGR)\n",
    "    results = pose.process(img_RGB)\n",
    "    \n",
    "    if results.pose_landmarks:\n",
    "        mpDraw.draw_landmarks(img, results.pose_landmarks,mpPose.POSE_CONNECTIONS)\n",
    "        for id, lm in enumerate(results.pose_landmarks.landmark):\n",
    "            h,w,c=img.shape \n",
    "            cx,cy = int(lm.x*w), int(lm.y*h)\n",
    "            cv2.circle(img,(cx,cy),3,(255,0,0),cv2.FILLED)\n",
    "    \n",
    "    cTime = time.time()\n",
    "    fps = 1/(cTime - pTime)\n",
    "    pTime = cTime \n",
    "    cv2.putText(img,str(int(fps)),(10,70),cv2.FONT_HERSHEY_PLAIN,3,(0,255,255),3)\n",
    "    cv2.imshow(\"image\",img)\n",
    "    if cv2.waitKey(1) & 0xFF == ord('q'):\n",
    "        break\n",
    "cap.release()\n",
    "cv2.destroyAllWindows()"
   ]
  },
  {
   "cell_type": "code",
   "execution_count": null,
   "id": "ee03b427",
   "metadata": {},
   "outputs": [],
   "source": []
  }
 ],
 "metadata": {
  "kernelspec": {
   "display_name": "Python 3 (ipykernel)",
   "language": "python",
   "name": "python3"
  },
  "language_info": {
   "codemirror_mode": {
    "name": "ipython",
    "version": 3
   },
   "file_extension": ".py",
   "mimetype": "text/x-python",
   "name": "python",
   "nbconvert_exporter": "python",
   "pygments_lexer": "ipython3",
   "version": "3.9.7"
  }
 },
 "nbformat": 4,
 "nbformat_minor": 5
}
